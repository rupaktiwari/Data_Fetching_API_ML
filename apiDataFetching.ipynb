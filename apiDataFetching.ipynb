{
 "cells": [
  {
   "cell_type": "code",
   "execution_count": 9,
   "metadata": {},
   "outputs": [
    {
     "name": "stdout",
     "output_type": "stream",
     "text": [
      "done\n"
     ]
    }
   ],
   "source": [
    "import requests\n",
    "import csv\n",
    "from requests.api import head\n",
    "\n",
    "url = 'http://api.coincap.io/v2/assets'\n",
    "\n",
    "headers = {\n",
    "  'Accept':'application/json',\n",
    "  'Content-Type':'application/json'\n",
    "}\n",
    "response = requests.request(\"GET\",url,headers= headers, data={})\n",
    "myjson = response.json()\n",
    "ourdata = []\n",
    "csvheader = ['SYMBOL','NAME','PRICE(USD)']\n",
    "for x in myjson['data']:\n",
    "  listing = [x['symbol'], x['name'], x['priceUsd']]\n",
    "  ourdata.append(listing)\n",
    "\n",
    "with open('crypto.csv','w', encoding='UTF8', newline = '') as f:\n",
    "  writer = csv.writer(f)\n",
    "  writer.writerow(csvheader)\n",
    "  writer.writerows(ourdata)\n",
    "\n",
    "print('done')"
   ]
  }
 ],
 "metadata": {
  "kernelspec": {
   "display_name": "Python 3",
   "language": "python",
   "name": "python3"
  },
  "language_info": {
   "codemirror_mode": {
    "name": "ipython",
    "version": 3
   },
   "file_extension": ".py",
   "mimetype": "text/x-python",
   "name": "python",
   "nbconvert_exporter": "python",
   "pygments_lexer": "ipython3",
   "version": "3.11.3"
  }
 },
 "nbformat": 4,
 "nbformat_minor": 2
}
